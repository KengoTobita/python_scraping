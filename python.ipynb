{
  "nbformat": 4,
  "nbformat_minor": 0,
  "metadata": {
    "colab": {
      "name": "python.ipynb",
      "version": "0.3.2",
      "provenance": [],
      "include_colab_link": true
    },
    "kernelspec": {
      "name": "python3",
      "display_name": "Python 3"
    }
  },
  "cells": [
    {
      "cell_type": "markdown",
      "metadata": {
        "id": "view-in-github",
        "colab_type": "text"
      },
      "source": [
        "<a href=\"https://colab.research.google.com/github/KengoTobita/python_scraping/blob/master/python.ipynb\" target=\"_parent\"><img src=\"https://colab.research.google.com/assets/colab-badge.svg\" alt=\"Open In Colab\"/></a>"
      ]
    },
    {
      "cell_type": "markdown",
      "metadata": {
        "id": "LhJsk20QtJC3",
        "colab_type": "text"
      },
      "source": [
        "# Python基礎"
      ]
    },
    {
      "cell_type": "markdown",
      "metadata": {
        "id": "xQYqcVM6tOIQ",
        "colab_type": "text"
      },
      "source": [
        "## print関数\n",
        "関数の引数を出力する。<br>\n",
        "ちょっとhello worldしましょう。"
      ]
    },
    {
      "cell_type": "code",
      "metadata": {
        "id": "UeYNNwlUtFNn",
        "colab_type": "code",
        "colab": {
          "base_uri": "https://localhost:8080/",
          "height": 34
        },
        "outputId": "bb5088b5-c7d3-437e-df9d-d13d21bff432"
      },
      "source": [
        "print(\"hello world\")"
      ],
      "execution_count": 3,
      "outputs": [
        {
          "output_type": "stream",
          "text": [
            "hello world\n"
          ],
          "name": "stdout"
        }
      ]
    },
    {
      "cell_type": "markdown",
      "metadata": {
        "id": "u58qCla3VbOr",
        "colab_type": "text"
      },
      "source": [
        "\\+ を使用して文字データを結合させることもできます。"
      ]
    },
    {
      "cell_type": "code",
      "metadata": {
        "id": "ciG2aIqmVB5T",
        "colab_type": "code",
        "colab": {
          "base_uri": "https://localhost:8080/",
          "height": 34
        },
        "outputId": "2aac64ae-ac68-4593-e56d-5062d1c9c85b"
      },
      "source": [
        "print(\"hello \" + \"Weeyble\")"
      ],
      "execution_count": 4,
      "outputs": [
        {
          "output_type": "stream",
          "text": [
            "hello Weeyble\n"
          ],
          "name": "stdout"
        }
      ]
    },
    {
      "cell_type": "markdown",
      "metadata": {
        "id": "OJuB9GAMtyHg",
        "colab_type": "text"
      },
      "source": [
        "## 変数の使用\n",
        "変数は名前を設定した後に、= を記述して設定できます。<br>"
      ]
    },
    {
      "cell_type": "code",
      "metadata": {
        "id": "XMTf3whSqndW",
        "colab_type": "code",
        "colab": {}
      },
      "source": [
        "apple = 100\n",
        "orage = 200"
      ],
      "execution_count": 0,
      "outputs": []
    },
    {
      "cell_type": "markdown",
      "metadata": {
        "id": "lgGHPiiPuAMs",
        "colab_type": "text"
      },
      "source": [
        "変数使うと……うわぁ、便利"
      ]
    },
    {
      "cell_type": "code",
      "metadata": {
        "id": "zbhoPkwmq3Py",
        "colab_type": "code",
        "colab": {
          "base_uri": "https://localhost:8080/",
          "height": 34
        },
        "outputId": "fd05296d-3b6e-43b4-8e38-4dd19fae4c07"
      },
      "source": [
        "apple * 10+ orage *3"
      ],
      "execution_count": 6,
      "outputs": [
        {
          "output_type": "execute_result",
          "data": {
            "text/plain": [
              "1600"
            ]
          },
          "metadata": {
            "tags": []
          },
          "execution_count": 6
        }
      ]
    },
    {
      "cell_type": "markdown",
      "metadata": {
        "id": "m2rqN0KXuEQy",
        "colab_type": "text"
      },
      "source": [
        "## リスト型について\n",
        "Python にはリスト型と言ってデータの連なりを扱う方法があります。<br>\n",
        "\\[  \\] で囲んで、データをカンマで区切って作成します。"
      ]
    },
    {
      "cell_type": "code",
      "metadata": {
        "id": "dsj8xvxJrKjw",
        "colab_type": "code",
        "colab": {}
      },
      "source": [
        "turanari  = [\"a\", \"b\", \"c\"]"
      ],
      "execution_count": 0,
      "outputs": []
    },
    {
      "cell_type": "markdown",
      "metadata": {
        "id": "MO6baRAnu2Zq",
        "colab_type": "text"
      },
      "source": [
        "## for文\n",
        "Pythonでの繰り返し処理を行う時に使用する。"
      ]
    },
    {
      "cell_type": "code",
      "metadata": {
        "id": "iNKOpxE5rkOx",
        "colab_type": "code",
        "colab": {
          "base_uri": "https://localhost:8080/",
          "height": 68
        },
        "outputId": "aa21f0a1-ec50-4914-b29b-6d0110fe2956"
      },
      "source": [
        "for i in turanari:\n",
        "  print(i)"
      ],
      "execution_count": 8,
      "outputs": [
        {
          "output_type": "stream",
          "text": [
            "a\n",
            "b\n",
            "c\n"
          ],
          "name": "stdout"
        }
      ]
    },
    {
      "cell_type": "markdown",
      "metadata": {
        "id": "L1B8SFajyCSz",
        "colab_type": "text"
      },
      "source": [
        "## ライブラリの使用\n",
        "ライブラリを使用するには、import を使用してライブラリを準備する必要があります。"
      ]
    },
    {
      "cell_type": "code",
      "metadata": {
        "id": "JUq6xZ5Rrrgp",
        "colab_type": "code",
        "colab": {
          "base_uri": "https://localhost:8080/",
          "height": 51
        },
        "outputId": "9d733d80-f18b-4c5f-d5e6-0c4c99e0b75b"
      },
      "source": [
        "import numpy\n",
        "\n",
        "A = numpy.array([[1.,3.] ,[4.,2.]]) \n",
        "B = numpy.array([1.,1.])   \n",
        "\n",
        "A*B"
      ],
      "execution_count": 9,
      "outputs": [
        {
          "output_type": "execute_result",
          "data": {
            "text/plain": [
              "array([[1., 3.],\n",
              "       [4., 2.]])"
            ]
          },
          "metadata": {
            "tags": []
          },
          "execution_count": 9
        }
      ]
    },
    {
      "cell_type": "markdown",
      "metadata": {
        "id": "9l120YrM8gVo",
        "colab_type": "text"
      },
      "source": [
        "## コマンドラインの使用\n",
        "コマンドの先頭に  ! をつけることによって基礎的な、<br>\n",
        "コマンドラインを使用することが可能。"
      ]
    },
    {
      "cell_type": "code",
      "metadata": {
        "id": "6R-iMh-i80Rm",
        "colab_type": "code",
        "colab": {
          "base_uri": "https://localhost:8080/",
          "height": 68
        },
        "outputId": "2422f3a7-cae8-4274-9fe7-50bb94b32ff2"
      },
      "source": [
        "! ls"
      ],
      "execution_count": 10,
      "outputs": [
        {
          "output_type": "stream",
          "text": [
            "ch0.txt   ch12.txt  ch15.txt  ch1.txt  ch4.txt\tch7.txt  sample_data\n",
            "ch10.txt  ch13.txt  ch16.txt  ch2.txt  ch5.txt\tch8.txt\n",
            "ch11.txt  ch14.txt  ch17.txt  ch3.txt  ch6.txt\tch9.txt\n"
          ],
          "name": "stdout"
        }
      ]
    },
    {
      "cell_type": "markdown",
      "metadata": {
        "id": "RS0pKbkC9CiY",
        "colab_type": "text"
      },
      "source": [
        "Python ライブラリ管理ソフト Pipでのインストールで使う。"
      ]
    },
    {
      "cell_type": "code",
      "metadata": {
        "id": "mab4iqEg88iE",
        "colab_type": "code",
        "colab": {
          "base_uri": "https://localhost:8080/",
          "height": 581
        },
        "outputId": "f73556c1-3792-4d9d-b6dc-9c7bdbf1b9f9"
      },
      "source": [
        "! pip install TPOT"
      ],
      "execution_count": 12,
      "outputs": [
        {
          "output_type": "stream",
          "text": [
            "Collecting TPOT\n",
            "\u001b[?25l  Downloading https://files.pythonhosted.org/packages/15/c8/46f5c7231f8e3088052cda78ed36198f9ded9f5a5edfc99290f31aa6b57e/TPOT-0.10.1-py3-none-any.whl (74kB)\n",
            "\u001b[K     |████████████████████████████████| 81kB 5.2MB/s \n",
            "\u001b[?25hRequirement already satisfied: pandas>=0.20.2 in /usr/local/lib/python3.6/dist-packages (from TPOT) (0.24.2)\n",
            "Collecting stopit>=1.1.1 (from TPOT)\n",
            "  Downloading https://files.pythonhosted.org/packages/35/58/e8bb0b0fb05baf07bbac1450c447d753da65f9701f551dca79823ce15d50/stopit-1.1.2.tar.gz\n",
            "Collecting deap>=1.0 (from TPOT)\n",
            "\u001b[?25l  Downloading https://files.pythonhosted.org/packages/af/29/e7f2ecbe02997b16a768baed076f5fc4781d7057cd5d9adf7c94027845ba/deap-1.2.2.tar.gz (936kB)\n",
            "\u001b[K     |████████████████████████████████| 942kB 11.9MB/s \n",
            "\u001b[?25hRequirement already satisfied: scipy>=0.19.0 in /usr/local/lib/python3.6/dist-packages (from TPOT) (1.3.0)\n",
            "Requirement already satisfied: scikit-learn>=0.18.1 in /usr/local/lib/python3.6/dist-packages (from TPOT) (0.21.2)\n",
            "Requirement already satisfied: numpy>=1.12.1 in /usr/local/lib/python3.6/dist-packages (from TPOT) (1.16.4)\n",
            "Requirement already satisfied: tqdm>=4.26.0 in /usr/local/lib/python3.6/dist-packages (from TPOT) (4.28.1)\n",
            "Collecting update-checker>=0.16 (from TPOT)\n",
            "  Downloading https://files.pythonhosted.org/packages/17/c9/ab11855af164d03be0ff4fddd4c46a5bd44799a9ecc1770e01a669c21168/update_checker-0.16-py2.py3-none-any.whl\n",
            "Requirement already satisfied: python-dateutil>=2.5.0 in /usr/local/lib/python3.6/dist-packages (from pandas>=0.20.2->TPOT) (2.5.3)\n",
            "Requirement already satisfied: pytz>=2011k in /usr/local/lib/python3.6/dist-packages (from pandas>=0.20.2->TPOT) (2018.9)\n",
            "Requirement already satisfied: joblib>=0.11 in /usr/local/lib/python3.6/dist-packages (from scikit-learn>=0.18.1->TPOT) (0.13.2)\n",
            "Requirement already satisfied: requests>=2.3.0 in /usr/local/lib/python3.6/dist-packages (from update-checker>=0.16->TPOT) (2.21.0)\n",
            "Requirement already satisfied: six>=1.5 in /usr/local/lib/python3.6/dist-packages (from python-dateutil>=2.5.0->pandas>=0.20.2->TPOT) (1.12.0)\n",
            "Requirement already satisfied: certifi>=2017.4.17 in /usr/local/lib/python3.6/dist-packages (from requests>=2.3.0->update-checker>=0.16->TPOT) (2019.3.9)\n",
            "Requirement already satisfied: idna<2.9,>=2.5 in /usr/local/lib/python3.6/dist-packages (from requests>=2.3.0->update-checker>=0.16->TPOT) (2.8)\n",
            "Requirement already satisfied: chardet<3.1.0,>=3.0.2 in /usr/local/lib/python3.6/dist-packages (from requests>=2.3.0->update-checker>=0.16->TPOT) (3.0.4)\n",
            "Requirement already satisfied: urllib3<1.25,>=1.21.1 in /usr/local/lib/python3.6/dist-packages (from requests>=2.3.0->update-checker>=0.16->TPOT) (1.24.3)\n",
            "Building wheels for collected packages: stopit, deap\n",
            "  Building wheel for stopit (setup.py) ... \u001b[?25l\u001b[?25hdone\n",
            "  Stored in directory: /root/.cache/pip/wheels/3c/85/2b/2580190404636bfc63e8de3dff629c03bb795021e1983a6cc7\n",
            "  Building wheel for deap (setup.py) ... \u001b[?25l\u001b[?25hdone\n",
            "  Stored in directory: /root/.cache/pip/wheels/22/ea/bf/dc7c8a2262025a0ab5da9ef02282c198be88902791ca0c6658\n",
            "Successfully built stopit deap\n",
            "Installing collected packages: stopit, deap, update-checker, TPOT\n",
            "Successfully installed TPOT-0.10.1 deap-1.2.2 stopit-1.1.2 update-checker-0.16\n"
          ],
          "name": "stdout"
        }
      ]
    },
    {
      "cell_type": "code",
      "metadata": {
        "id": "3pcCRCfx82bt",
        "colab_type": "code",
        "colab": {
          "base_uri": "https://localhost:8080/",
          "height": 10322
        },
        "outputId": "bcea5fe4-3255-414e-999a-61b17697d1c5"
      },
      "source": [
        "! cat ch0.txt"
      ],
      "execution_count": 11,
      "outputs": [
        {
          "output_type": "stream",
          "text": [
            "\n",
            "\n",
            "\n",
            "Brave New World by Aldous Huxley : chapter one\n",
            "\n",
            "\n",
            "\n",
            "\n",
            "BRAVE NEW WORLD\n",
            "by\n",
            "Aldous Huxley\n",
            "(1894-1963)\n",
            "\n",
            "01   02   03   04   05   06   07   08   09   10   11   12   13   14   15   16   17   18 \n",
            "\n",
            "\n",
            "\n",
            "\n",
            "\n",
            "\n",
            "\n",
            "Chapter One\n",
            "A SQUAT grey building of only thirty-four stories. Over\n",
            "the main entrance the words, CENTRAL LONDON HATCHERY AND CONDITIONING CENTRE,\n",
            "and, in a shield, the World State's motto, COMMUNITY, IDENTITY, STABILITY.\n",
            "\n",
            "The enormous room on the ground floor faced towards the north. Cold for\n",
            "all the summer beyond the panes, for all the tropical heat of the room itself,\n",
            "a harsh thin light glared through the windows, hungrily seeking some draped\n",
            "lay figure, some pallid shape of academic goose-flesh, but finding only the\n",
            "glass and nickel and bleakly shining porcelain of a laboratory. Wintriness\n",
            "responded to wintriness. The overalls of the workers were white, their hands\n",
            "gloved with a pale corpse-coloured rubber. The light was frozen, dead, a\n",
            "ghost. Only from the yellow barrels of the microscopes did it borrow a certain\n",
            "rich and living substance, lying along the polished tubes like butter, streak\n",
            "after luscious streak in long recession down the work tables.\n",
            "\n",
            "\n",
            "\"And this,\" said the Director opening the door, \"is the Fertilizing Room.\"\n",
            "\n",
            "\n",
            "Bent over their instruments, three hundred Fertilizers were plunged, as\n",
            "the Director of Hatcheries and Conditioning entered the room, in the scarcely\n",
            "breathing silence, the absent-minded, soliloquizing hum or whistle, of\n",
            "absorbed concentration. A troop of newly arrived students, very young, pink\n",
            "and callow, followed nervously, rather abjectly, at the Director's heels. Each\n",
            "of them carried a notebook, in which, whenever the great man spoke, he\n",
            "desperately scribbled. Straight from the horse's mouth. It was a rare\n",
            "privilege. The D. H. C. for Central London always made a point of personally\n",
            "conducting his new students round the various departments.\n",
            "\n",
            "\n",
            "\"Just to give you a general idea,\" he would explain to them. For of course\n",
            "some sort of general idea they must have, if they were to do their work\n",
            "intelligently–though as little of one, if they were to be good and happy\n",
            "members of society, as possible. For particulars, as every one knows, make for\n",
            "virtue and happiness; generalities are intellectually necessary evils. Not\n",
            "philosophers but fret-sawyers and stamp collectors compose the backbone of\n",
            "society.\n",
            "\n",
            "\n",
            "\"To-morrow,\" he would add, smiling at them with a slightly menacing\n",
            "geniality, \"you'll be settling down to serious work. You won't have time for\n",
            "generalities. Meanwhile …\"\n",
            "\n",
            "\n",
            "Meanwhile, it was a privilege. Straight from the horse's mouth into the\n",
            "notebook. The boys scribbled like mad.\n",
            "\n",
            "\n",
            "Tall and rather thin but upright, the Director advanced into the room. He\n",
            "had a long chin and big rather prominent teeth, just covered, when he was not\n",
            "talking, by his full, floridly curved lips. Old, young? Thirty? Fifty?\n",
            "Fifty-five? It was hard to say. And anyhow the question didn't arise; in this\n",
            "year of stability, A. F. 632, it didn't occur to you to ask it.\n",
            "\n",
            "\n",
            "\"I shall begin at the beginning,\" said the D.H.C. and the more zealous\n",
            "students recorded his intention in their notebooks: Begin at the\n",
            "beginning. \"These,\" he waved his hand, \"are the incubators.\" And opening\n",
            "an insulated door he showed them racks upon racks of numbered test-tubes. \"The\n",
            "week's supply of ova. Kept,\" he explained, \"at blood heat; whereas the male\n",
            "gametes,\" and here he opened another door, \"they have to be kept at\n",
            "thirty-five instead of thirty-seven. Full blood heat sterilizes.\" Rams wrapped\n",
            "in theremogene beget no lambs.\n",
            "\n",
            "\n",
            "Still leaning against the incubators he gave them, while the pencils\n",
            "scurried illegibly across the pages, a brief description of the modern\n",
            "fertilizing process; spoke first, of course, of its surgical introduction–\"the\n",
            "operation undergone voluntarily for the good of Society, not to mention the\n",
            "fact that it carries a bonus amounting to six months' salary\"; continued with\n",
            "some account of the technique for preserving the excised ovary alive and\n",
            "actively developing; passed on to a consideration of optimum temperature,\n",
            "salinity, viscosity; referred to the liquor in which the detached and ripened\n",
            "eggs were kept; and, leading his charges to the work tables, actually showed\n",
            "them how this liquor was drawn off from the test-tubes; how it was let out\n",
            "drop by drop onto the specially warmed slides of the microscopes; how the eggs\n",
            "which it contained were inspected for abnormalities, counted and transferred\n",
            "to a porous receptacle; how (and he now took them to watch the operation) this\n",
            "receptacle was immersed in a warm bouillon containing free-swimming\n",
            "spermatozoa–at a minimum concentration of one hundred thousand per cubic\n",
            "centimetre, he insisted; and how, after ten minutes, the container was lifted\n",
            "out of the liquor and its contents re-examined; how, if any of the eggs\n",
            "remained unfertilized, it was again immersed, and, if necessary, yet again;\n",
            "how the fertilized ova went back to the incubators; where the Alphas and Betas\n",
            "remained until definitely bottled; while the Gammas, Deltas and Epsilons were\n",
            "brought out again, after only thirty-six hours, to undergo Bokanovsky's\n",
            "Process.\n",
            "\n",
            "\n",
            "\"Bokanovsky's Process,\" repeated the Director, and the students underlined\n",
            "the words in their little notebooks.\n",
            "\n",
            "\n",
            "One egg, one embryo, one adult-normality. But a bokanovskified egg will\n",
            "bud, will proliferate, will divide. From eight to ninety-six buds, and every\n",
            "bud will grow into a perfectly formed embryo, and every embryo into a\n",
            "full-sized adult. Making ninety-six human beings grow where only one grew\n",
            "before. Progress.\n",
            "\n",
            "\n",
            "\"Essentially,\" the D.H.C. concluded, \"bokanovskification consists of a\n",
            "series of arrests of development. We check the normal growth and,\n",
            "paradoxically enough, the egg responds by budding.\"\n",
            "\n",
            "\n",
            "Responds by budding. The pencils were busy.\n",
            "\n",
            "\n",
            "He pointed. On a very slowly moving band a rack-full of test-tubes was\n",
            "entering a large metal box, another, rack-full was emerging. Machinery faintly\n",
            "purred. It took eight minutes for the tubes to go through, he told them. Eight\n",
            "minutes of hard X-rays being about as much as an egg can stand. A few died; of\n",
            "the rest, the least susceptible divided into two; most put out four buds; some\n",
            "eight; all were returned to the incubators, where the buds began to develop;\n",
            "then, after two days, were suddenly chilled, chilled and checked. Two, four,\n",
            "eight, the buds in their turn budded; and having budded were dosed almost to\n",
            "death with alcohol; consequently burgeoned again and having budded–bud out of\n",
            "bud out of bud–were thereafter–further arrest being generally fatal–left to\n",
            "develop in peace. By which time the original egg was in a fair way to becoming\n",
            "anything from eight to ninety-six embryos– a prodigious improvement, you will\n",
            "agree, on nature. Identical twins–but not in piddling twos and threes as in\n",
            "the old viviparous days, when an egg would sometimes accidentally divide;\n",
            "actually by dozens, by scores at a time.\n",
            "\n",
            "\n",
            "\"Scores,\" the Director repeated and flung out his arms, as though he were\n",
            "distributing largesse. \"Scores.\"\n",
            "\n",
            "\n",
            "But one of the students was fool enough to ask where the advantage lay.\n",
            "\n",
            "\n",
            "\"My good boy!\" The Director wheeled sharply round on him. \"Can't you see?\n",
            "Can't you see?\" He raised a hand; his expression was solemn. \"Bokanovsky's\n",
            "Process is one of the major instruments of social stability!\"\n",
            "\n",
            "\n",
            "Major instruments of social stability.\n",
            "\n",
            "\n",
            "Standard men and women; in uniform batches. The whole of a small factory\n",
            "staffed with the products of a single bokanovskified egg.\n",
            "\n",
            "\n",
            "\"Ninety-six identical twins working ninety-six identical machines!\" The\n",
            "voice was almost tremulous with enthusiasm. \"You really know where you are.\n",
            "For the first time in history.\" He quoted the planetary motto. \"Community,\n",
            "Identity, Stability.\" Grand words. \"If we could bokanovskify indefinitely the\n",
            "whole problem would be solved.\"\n",
            "\n",
            "\n",
            "Solved by standard Gammas, unvarying Deltas, uniform Epsilons. Millions of\n",
            "identical twins. The principle of mass production at last applied to biology.\n",
            "\n",
            "\n",
            "\"But, alas,\" the Director shook his head, \"we can't bokanovskify\n",
            "indefinitely.\"\n",
            "\n",
            "\n",
            "Ninety-six seemed to be the limit; seventy-two a good average. From the\n",
            "same ovary and with gametes of the same male to manufacture as many batches of\n",
            "identical twins as possible–that was the best (sadly a second best) that they\n",
            "could do. And even that was difficult.\n",
            "\n",
            "\n",
            "\"For in nature it takes thirty years for two hundred eggs to reach\n",
            "maturity. But our business is to stabilize the population at this moment, here\n",
            "and now. Dribbling out twins over a quarter of a century–what would be the use\n",
            "of that?\"\n",
            "\n",
            "\n",
            "Obviously, no use at all. But Podsnap's Technique had immensely\n",
            "accelerated the process of ripening. They could make sure of at least a\n",
            "hundred and fifty mature eggs within two years. Fertilize and bokanovskify–in\n",
            "other words, multiply by seventy-two–and you get an average of nearly eleven\n",
            "thousand brothers and sisters in a hundred and fifty batches of identical\n",
            "twins, all within two years of the same age.\n",
            "\n",
            "\n",
            "\"And in exceptional cases we can make one ovary yield us over fifteen\n",
            "thousand adult individuals.\"\n",
            "\n",
            "\n",
            "Beckoning to a fair-haired, ruddy young man who happened to be passing at\n",
            "the moment. \"Mr. Foster,\" he called. The ruddy young man approached. \"Can you\n",
            "tell us the record for a single ovary, Mr. Foster?\"\n",
            "\n",
            "\"Sixteen thousand and twelve in this Centre,\" Mr. Foster replied without\n",
            "hesitation. He spoke very quickly, had a vivacious blue eye, and took an\n",
            "evident pleasure in quoting figures. \"Sixteen thousand and twelve; in one\n",
            "hundred and eighty-nine batches of identicals. But of course they've done much\n",
            "better,\" he rattled on, \"in some of the tropical Centres. Singapore has often\n",
            "produced over sixteen thousand five hundred; and Mombasa has actually touched\n",
            "the seventeen thousand mark. But then they have unfair advantages. You should\n",
            "see the way a negro ovary responds to pituitary! It's quite astonishing, when\n",
            "you're used to working with European material. Still,\" he added, with a laugh\n",
            "(but the light of combat was in his eyes and the lift of his chin was\n",
            "challenging), \"still, we mean to beat them if we can. I'm working on a\n",
            "wonderful Delta-Minus ovary at this moment. Only just eighteen months old.\n",
            "Over twelve thousand seven hundred children already, either decanted or in\n",
            "embryo. And still going strong. We'll beat them yet.\"\n",
            "\n",
            "\"That's the spirit I like!\" cried the Director, and clapped Mr. Foster on\n",
            "the shoulder. \"Come along with us, and give these boys the benefit of your\n",
            "expert knowledge.\"\n",
            "\n",
            "\n",
            "Mr. Foster smiled modestly. \"With pleasure.\" They went.\n",
            "\n",
            "\n",
            "In the Bottling Room all was harmonious bustle and ordered activity. Flaps\n",
            "of fresh sow's peritoneum ready cut to the proper size came shooting up in\n",
            "little lifts from the Organ Store in the sub-basement. Whizz and then, click!\n",
            "the lift-hatches hew open; the bottle-liner had only to reach out a hand, take\n",
            "the flap, insert, smooth-down, and before the lined bottle had had time to\n",
            "travel out of reach along the endless band, whizz, click! another flap of\n",
            "peritoneum had shot up from the depths, ready to be slipped into yet another\n",
            "bottle, the next of that slow interminable procession on the band.\n",
            "\n",
            "\n",
            "Next to the Liners stood the Matriculators. The procession advanced; one\n",
            "by one the eggs were transferred from their test-tubes to the larger\n",
            "containers; deftly the peritoneal lining was slit, the morula dropped into\n",
            "place, the saline solution poured in … and already the bottle had passed, and\n",
            "it was the turn of the labellers. Heredity, date of fertilization, membership\n",
            "of Bokanovsky Group–details were transferred from test-tube to bottle. No\n",
            "longer anonymous, but named, identified, the procession marched slowly on; on\n",
            "through an opening in the wall, slowly on into the Social Predestination Room.\n",
            "\n",
            "\n",
            "\"Eighty-eight cubic metres of card-index,\" said Mr. Foster with relish, as\n",
            "they entered.\n",
            "\n",
            "\n",
            "\"Containing all the relevant information,\" added the Director.\n",
            "\n",
            "\n",
            "\"Brought up to date every morning.\"\n",
            "\n",
            "\n",
            "\"And co-ordinated every afternoon.\"\n",
            "\n",
            "\n",
            "\"On the basis of which they make their calculations.\"\n",
            "\n",
            "\n",
            "\"So many individuals, of such and such quality,\" said Mr. Foster.\n",
            "\n",
            "\n",
            "\"Distributed in such and such quantities.\"\n",
            "\n",
            "\n",
            "\"The optimum Decanting Rate at any given moment.\"\n",
            "\n",
            "\n",
            "\"Unforeseen wastages promptly made good.\"\n",
            "\n",
            "\n",
            "\"Promptly,\" repeated Mr. Foster. \"If you knew the amount of overtime I had\n",
            "to put in after the last Japanese earthquake!\" He laughed goodhumouredly and\n",
            "shook his head.\n",
            "\n",
            "\n",
            "\"The Predestinators send in their figures to the Fertilizers.\"\n",
            "\n",
            "\n",
            "\"Who give them the embryos they ask for.\"\n",
            "\n",
            "\n",
            "\"And the bottles come in here to be predestined in detail.\"\n",
            "\n",
            "\n",
            "\"After which they are sent down to the Embryo Store.\"\n",
            "\n",
            "\n",
            "\"Where we now proceed ourselves.\"\n",
            "\n",
            "\n",
            "And opening a door Mr. Foster led the way down a staircase into the\n",
            "basement.\n",
            "\n",
            "\n",
            "The temperature was still tropical. They descended into a thickening\n",
            "twilight. Two doors and a passage with a double turn insured the cellar\n",
            "against any possible infiltration of the day.\n",
            "\n",
            "\n",
            "\"Embryos are like photograph film,\" said Mr. Foster waggishly, as he\n",
            "pushed open the second door. \"They can only stand red light.\"\n",
            "\n",
            "\n",
            "And in effect the sultry darkness into which the students now followed him\n",
            "was visible and crimson, like the darkness of closed eyes on a summer's\n",
            "afternoon. The bulging flanks of row on receding row and tier above tier of\n",
            "bottles glinted with innumerable rubies, and among the rubies moved the dim\n",
            "red spectres of men and women with purple eyes and all the symptoms of lupus.\n",
            "The hum and rattle of machinery faintly stirred the air.\n",
            "\n",
            "\n",
            "\"Give them a few figures, Mr. Foster,\" said the Director, who was tired of\n",
            "talking.\n",
            "\n",
            "\n",
            "Mr. Foster was only too happy to give them a few figures.\n",
            "\n",
            "\n",
            "Two hundred and twenty metres long, two hundred wide, ten high. He pointed\n",
            "upwards. Like chickens drinking, the students lifted their eyes towards the\n",
            "distant ceiling.\n",
            "\n",
            "\n",
            "Three tiers of racks: ground floor level, first gallery, second gallery.\n",
            "\n",
            "\n",
            "The spidery steel-work of gallery above gallery faded away in all\n",
            "directions into the dark. Near them three red ghosts were busily unloading\n",
            "demijohns from a moving staircase.\n",
            "\n",
            "\n",
            "The escalator from the Social Predestination Room.\n",
            "\n",
            "\n",
            "Each bottle could be placed on one of fifteen racks, each rack, though you\n",
            "couldn't see it, was a conveyor traveling at the rate of thirty-three and a\n",
            "third centimetres an hour. Two hundred and sixty-seven days at eight metres a\n",
            "day. Two thousand one hundred and thirty-six metres in all. One circuit of the\n",
            "cellar at ground level, one on the first gallery, half on the second, and on\n",
            "the two hundred and sixty-seventh morning, daylight in the Decanting Room.\n",
            "Independent existence–so called.\n",
            "\n",
            "\n",
            "\"But in the interval,\" Mr. Foster concluded, \"we've managed to do a lot to\n",
            "them. Oh, a very great deal.\" His laugh was knowing and triumphant.\n",
            "\n",
            "\n",
            "\"That's the spirit I like,\" said the Director once more. \"Let's walk\n",
            "around. You tell them everything, Mr. Foster.\"\n",
            "\n",
            "\n",
            "Mr. Foster duly told them.\n",
            "\n",
            "\n",
            "Told them of the growing embryo on its bed of peritoneum. Made them taste\n",
            "the rich blood surrogate on which it fed. Explained why it had to be\n",
            "stimulated with placentin and thyroxin. Told them of the corpus luteum\n",
            "extract. Showed them the jets through which at every twelfth metre from zero\n",
            "to 2040 it was automatically injected. Spoke of those gradually increasing\n",
            "doses of pituitary administered during the final ninety-six metres of their\n",
            "course. Described the artificial maternal circulation installed in every\n",
            "bottle at Metre 112; showed them the reservoir of blood-surrogate, the\n",
            "centrifugal pump that kept the liquid moving over the placenta and drove it\n",
            "through the synthetic lung and waste product filter. Referred to the embryo's\n",
            "troublesome tendency to anæmia, to the massive doses of hog's stomach extract\n",
            "and foetal foal's liver with which, in consequence, it had to be supplied.\n",
            "\n",
            "\n",
            "Showed them the simple mechanism by means of which, during the last two\n",
            "metres out of every eight, all the embryos were simultaneously shaken into\n",
            "familiarity with movement. Hinted at the gravity of the so-called \"trauma of\n",
            "decanting,\" and enumerated the precautions taken to minimize, by a suitable\n",
            "training of the bottled embryo, that dangerous shock. Told them of the test\n",
            "for sex carried out in the neighborhood of Metre 200. Explained the system of\n",
            "labelling–a T for the males, a circle for the females and for those who were\n",
            "destined to become freemartins a question mark, black on a white ground.\n",
            "\n",
            "\n",
            "\"For of course,\" said Mr. Foster, \"in the vast majority of cases,\n",
            "fertility is merely a nuisance. One fertile ovary in twelve hundred–that would\n",
            "really be quite sufficient for our purposes. But we want to have a good\n",
            "choice. And of course one must always have an enormous margin of safety. So we\n",
            "allow as many as thirty per cent of the female embryos to develop normally.\n",
            "The others get a dose of male sex-hormone every twenty-four metres for the\n",
            "rest of the course. Result: they're decanted as freemartins–structurally quite\n",
            "normal (except,\" he had to admit, \"that they do have the slightest tendency to\n",
            "grow beards), but sterile. Guaranteed sterile. Which brings us at last,\"\n",
            "continued Mr. Foster, \"out of the realm of mere slavish imitation of nature\n",
            "into the much more interesting world of human invention.\"\n",
            "\n",
            "\n",
            "He rubbed his hands. For of course, they didn't content themselves with\n",
            "merely hatching out embryos: any cow could do that.\n",
            "\n",
            "\n",
            "\"We also predestine and condition. We decant our babies as socialized\n",
            "human beings, as Alphas or Epsilons, as future sewage workers or future …\" He\n",
            "was going to say \"future World controllers,\" but correcting himself, said\n",
            "\"future Directors of Hatcheries,\" instead.\n",
            "\n",
            "\n",
            "The D.H.C. acknowledged the compliment with a smile.\n",
            "\n",
            "\n",
            "They were passing Metre 320 on Rack 11. A young Beta-Minus mechanic was\n",
            "busy with screw-driver and spanner on the blood-surrogate pump of a passing\n",
            "bottle. The hum of the electric motor deepened by fractions of a tone as he\n",
            "turned the nuts. Down, down … A final twist, a glance at the revolution\n",
            "counter, and he was done. He moved two paces down the line and began the same\n",
            "process on the next pump.\n",
            "\n",
            "\n",
            "\"Reducing the number of revolutions per minute,\" Mr. Foster explained.\n",
            "\"The surrogate goes round slower; therefore passes through the lung at longer\n",
            "intervals; therefore gives the embryo less oxygen. Nothing like\n",
            "oxygen-shortage for keeping an embryo below par.\" Again he rubbed his hands.\n",
            "\n",
            "\n",
            "\"But why do you want to keep the embryo below par?\" asked an ingenuous\n",
            "student.\n",
            "\n",
            "\n",
            "\"Ass!\" said the Director, breaking a long silence. \"Hasn't it occurred to\n",
            "you that an Epsilon embryo must have an Epsilon environment as well as an\n",
            "Epsilon heredity?\"\n",
            "\n",
            "\n",
            "It evidently hadn't occurred to him. He was covered with confusion.\n",
            "\n",
            "\n",
            "\"The lower the caste,\" said Mr. Foster, \"the shorter the oxygen.\" The\n",
            "first organ affected was the brain. After that the skeleton. At seventy per\n",
            "cent of normal oxygen you got dwarfs. At less than seventy eyeless monsters.\n",
            "\n",
            "\n",
            "\"Who are no use at all,\" concluded Mr. Foster.\n",
            "\n",
            "\n",
            "Whereas (his voice became confidential and eager), if they could discover\n",
            "a technique for shortening the period of maturation what a triumph, what a\n",
            "benefaction to Society!\n",
            "\n",
            "\n",
            "\"Consider the horse.\"\n",
            "\n",
            "\n",
            "They considered it.\n",
            "\n",
            "\n",
            "Mature at six; the elephant at ten. While at thirteen a man is not yet\n",
            "sexually mature; and is only full-grown at twenty. Hence, of course, that\n",
            "fruit of delayed development, the human intelligence.\n",
            "\n",
            "\n",
            "\"But in Epsilons,\" said Mr. Foster very justly, \"we don't need human\n",
            "intelligence.\"\n",
            "\n",
            "\n",
            "Didn't need and didn't get it. But though the Epsilon mind was mature at\n",
            "ten, the Epsilon body was not fit to work till eighteen. Long years of\n",
            "superfluous and wasted immaturity. If the physical development could be\n",
            "speeded up till it was as quick, say, as a cow's, what an enormous saving to\n",
            "the Community!\n",
            "\n",
            "\n",
            "\"Enormous!\" murmured the students. Mr. Foster's enthusiasm was infectious.\n",
            "\n",
            "\n",
            "He became rather technical; spoke of the abnormal endocrine co-ordination\n",
            "which made men grow so slowly; postulated a germinal mutation to account for\n",
            "it. Could the effects of this germinal mutation be undone? Could the\n",
            "individual Epsilon embryo be made a revert, by a suitable technique, to the\n",
            "normality of dogs and cows? That was the problem. And it was all but solved.\n",
            "\n",
            "\n",
            "Pilkington, at Mombasa, had produced individuals who were sexually mature\n",
            "at four and full-grown at six and a half. A scientific triumph. But socially\n",
            "useless. Six-year-old men and women were too stupid to do even Epsilon work.\n",
            "And the process was an all-or-nothing one; either you failed to modify at all,\n",
            "or else you modified the whole way. They were still trying to find the ideal\n",
            "compromise between adults of twenty and adults of six. So far without success.\n",
            "Mr. Foster sighed and shook his head.\n",
            "\n",
            "\n",
            "Their wanderings through the crimson twilight had brought them to the\n",
            "neighborhood of Metre 170 on Rack 9. From this point onwards Rack 9 was\n",
            "enclosed and the bottle performed the remainder of their journey in a kind of\n",
            "tunnel, interrupted here and there by openings two or three metres wide.\n",
            "\n",
            "\n",
            "\"Heat conditioning,\" said Mr. Foster.\n",
            "\n",
            "\n",
            "Hot tunnels alternated with cool tunnels. Coolness was wedded to\n",
            "discomfort in the form of hard X-rays. By the time they were decanted the\n",
            "embryos had a horror of cold. They were predestined to emigrate to the\n",
            "tropics, to be miner and acetate silk spinners and steel workers. Later on\n",
            "their minds would be made to endorse the judgment of their bodies. \"We\n",
            "condition them to thrive on heat,\" concluded Mr. Foster. \"Our colleagues\n",
            "upstairs will teach them to love it.\"\n",
            "\n",
            "\n",
            "\"And that,\" put in the Director sententiously, \"that is the secret of\n",
            "happiness and virtue–liking what you've got to do. All conditioning aims at\n",
            "that: making people like their unescapable social destiny.\"\n",
            "\n",
            "\n",
            "In a gap between two tunnels, a nurse was delicately probing with a long\n",
            "fine syringe into the gelatinous contents of a passing bottle. The students\n",
            "and their guides stood watching her for a few moments in silence.\n",
            "\n",
            "\n",
            "\"Well, Lenina,\" said Mr. Foster, when at last she withdrew the syringe and\n",
            "straightened herself up.\n",
            "\n",
            "\n",
            "The girl turned with a start. One could see that, for all the lupus and\n",
            "the purple eyes, she was uncommonly pretty.\n",
            "\n",
            "\n",
            "\"Henry!\" Her smile flashed redly at him–a row of coral teeth.\n",
            "\n",
            "\n",
            "\"Charming, charming,\" murmured the Director and, giving her two or three\n",
            "little pats, received in exchange a rather deferential smile for himself.\n",
            "\n",
            "\n",
            "\"What are you giving them?\" asked Mr. Foster, making his tone very\n",
            "professional.\n",
            "\n",
            "\n",
            "\"Oh, the usual typhoid and sleeping sickness.\"\n",
            "\n",
            "\n",
            "\"Tropical workers start being inoculated at Metre 150,\" Mr. Foster\n",
            "explained to the students. \"The embryos still have gills. We immunize the fish\n",
            "against the future man's diseases.\" Then, turning back to Lenina, \"Ten to five\n",
            "on the roof this afternoon,\" he said, \"as usual.\"\n",
            "\n",
            "\n",
            "\"Charming,\" said the Director once more, and, with a final pat, moved away\n",
            "after the others.\n",
            "\n",
            "\n",
            "On Rack 10 rows of next generation's chemical workers were being trained\n",
            "in the toleration of lead, caustic soda, tar, chlorine. The first of a batch\n",
            "of two hundred and fifty embryonic rocket-plane engineers was just passing the\n",
            "eleven hundred metre mark on Rack 3. A special mechanism kept their containers\n",
            "in constant rotation. \"To improve their sense of balance,\" Mr. Foster\n",
            "explained. \"Doing repairs on the outside of a rocket in mid-air is a ticklish\n",
            "job. We slacken off the circulation when they're right way up, so that they're\n",
            "half starved, and double the flow of surrogate when they're upside down. They\n",
            "learn to associate topsy-turvydom with well-being; in fact, they're only truly\n",
            "happy when they're standing on their heads.\n",
            "\n",
            "\n",
            "\"And now,\" Mr. Foster went on, \"I'd like to show you some very interesting\n",
            "conditioning for Alpha Plus Intellectuals. We have a big batch of them on Rack\n",
            "5. First Gallery level,\" he called to two boys who had started to go down to\n",
            "the ground floor.\n",
            "\n",
            "\n",
            "\"They're round about Metre 900,\" he explained. \"You can't really do any\n",
            "useful intellectual conditioning till the foetuses have lost their tails.\n",
            "Follow me.\"\n",
            "\n",
            "\n",
            "But the Director had looked at his watch. \"Ten to three,\" he said. \"No\n",
            "time for the intellectual embryos, I'm afraid. We must go up to the Nurseries\n",
            "before the children have finished their afternoon sleep.\"\n",
            "\n",
            "\n",
            "Mr. Foster was disappointed. \"At least one glance at the Decanting Room,\"\n",
            "he pleaded.\n",
            "\n",
            "\n",
            "\"Very well then.\" The Director smiled indulgently. \"Just one glance.\"\n",
            "\n",
            "\n",
            "1 2 3 4 5 6 7 8 9 10 11 12 13 14 15 16 17 18 \n",
            "\n",
            "\n",
            "HOME\n",
            "Huxley Hotlinks\n",
            "Aldous Huxley Photogallery\n",
            "Critique of Brave New World\n",
            "Who's Who in Brave New World\n",
            "Study Aid: Barron's Notes on BNW\n",
            "Study Aid: Monarch's Notes on BNW\n",
            "Aldous Huxley: Brave New World Revisited\n",
            "\"Soma\" in Aldous Huxley's Brave New World\n",
            "Brave New World (movie; 1980 BBC TV adaptation)\n",
            "\n",
            "\n",
            "if(window.parent==window){(function(i,s,o,g,r,a,m){i['GoogleAnalyticsObject']=r;i[r]=i[r]||function(){(i[r].q=i[r].q||[]).push(arguments)},i[r].l=1*new Date();a=s.createElement(o),m=s.getElementsByTagName(o)[0];a.async=1;a.src=g;m.parentNode.insertBefore(a,m)})(window,document,'script','//www.google-analytics.com/analytics.js','ga');ga('create','UA-38633269-24','auto',{'siteSpeedSampleRate':100});ga('send','pageview');}\n"
          ],
          "name": "stdout"
        }
      ]
    }
  ]
}